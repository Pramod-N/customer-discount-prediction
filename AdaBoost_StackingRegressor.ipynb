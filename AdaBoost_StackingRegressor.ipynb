{
  "nbformat": 4,
  "nbformat_minor": 0,
  "metadata": {
    "colab": {
      "name": "AdaBoost_StackingRegressor.ipynb",
      "provenance": [],
      "authorship_tag": "ABX9TyPef21JeE8u5O601eDlib09"
    },
    "kernelspec": {
      "name": "python3",
      "display_name": "Python 3"
    },
    "language_info": {
      "name": "python"
    }
  },
  "cells": [
    {
      "cell_type": "code",
      "metadata": {
        "colab": {
          "base_uri": "https://localhost:8080/"
        },
        "id": "UWJO4_sEGh7M",
        "outputId": "5335765e-36c0-447b-a14e-44145a8f2174"
      },
      "source": [
        "import pandas as pd\n",
        "import datetime\n",
        "import numpy as np\n",
        "import seaborn as sns\n",
        "import requests, zipfile, io\n",
        "from sklearn.model_selection import train_test_split\n",
        "from sklearn.metrics import r2_score\n",
        "from xgboost import XGBRegressor\n",
        "from sklearn.experimental import enable_hist_gradient_boosting\n",
        "from sklearn.ensemble import HistGradientBoostingRegressor\n",
        "from lightgbm import LGBMRegressor\n",
        "from sklearn.ensemble import StackingRegressor,AdaBoostRegressor\n",
        "from sklearn.linear_model import LinearRegression"
      ],
      "execution_count": 1,
      "outputs": [
        {
          "output_type": "stream",
          "name": "stderr",
          "text": [
            "/usr/local/lib/python3.7/dist-packages/sklearn/experimental/enable_hist_gradient_boosting.py:17: UserWarning: Since version 1.0, it is not needed to import enable_hist_gradient_boosting anymore. HistGradientBoostingClassifier and HistGradientBoostingRegressor are now stable and can be normally imported from sklearn.ensemble.\n",
            "  \"Since version 1.0, \"\n"
          ]
        }
      ]
    },
    {
      "cell_type": "code",
      "metadata": {
        "id": "6e5CdG41Kdp5"
      },
      "source": [
        "#convert the datetime column to number of days since previous order\n",
        "train_df['Last_order_placed_date'] = pd.to_datetime(train_df['Last_order_placed_date'])\n",
        "\n",
        "train_df['Days_since_last_order'] = (datetime.datetime.now() - train_df['Last_order_placed_date']).dt.days"
      ],
      "execution_count": 3,
      "outputs": []
    },
    {
      "cell_type": "code",
      "metadata": {
        "id": "omUCPiowLDdg"
      },
      "source": [
        "#drop columns \n",
        "train_df = train_df.drop(columns=['Last_order_placed_date','Customer_ID','No_of_issues_raised'])"
      ],
      "execution_count": 4,
      "outputs": []
    },
    {
      "cell_type": "code",
      "metadata": {
        "id": "xQXxdYVVLG2o"
      },
      "source": [
        "#assign categorical features with unique integer values\n",
        "conversion_names = {\n",
        "          \"Category_of_customers\" : {\"Active\" : 2, \"Inactive\":0,\"Passive\":1},\n",
        "          \"Premium_membership\" : {\"Yes\" : 1, \"No\":0}\n",
        "}\n",
        "train_df.replace(conversion_names,inplace=True)"
      ],
      "execution_count": 5,
      "outputs": []
    },
    {
      "cell_type": "code",
      "metadata": {
        "id": "H1mn6UO9LHqI"
      },
      "source": [
        "X = train_df.drop('Discount_percentage',axis=1)\n",
        "y = train_df['Discount_percentage']"
      ],
      "execution_count": 6,
      "outputs": []
    },
    {
      "cell_type": "code",
      "metadata": {
        "id": "n7QlzCbpLJZj"
      },
      "source": [
        "X_train, X_test, y_train, y_test = train_test_split(X, y, test_size=0.2, random_state=123)"
      ],
      "execution_count": 7,
      "outputs": []
    },
    {
      "cell_type": "markdown",
      "metadata": {
        "id": "Y6OTZS2ahw4E"
      },
      "source": [
        "## Baseline Models"
      ]
    },
    {
      "cell_type": "code",
      "metadata": {
        "id": "MwxSfErCh1V7"
      },
      "source": [
        "#XgBoost\n",
        "xgbst_model = XGBRegressor(base_score=0.5, booster='gbtree', colsample_bylevel=1,\n",
        "             colsample_bynode=1, colsample_bytree=1, gamma=0,\n",
        "             importance_type='gain', learning_rate=0.1, max_delta_step=0,\n",
        "             max_depth=5, min_child_weight=1, missing=None, n_estimators=100,\n",
        "             n_jobs=1, nthread=None, objective='reg:squarederror', random_state=0,\n",
        "             reg_alpha=0, reg_lambda=1, scale_pos_weight=1, seed=None,\n",
        "             silent=None, subsample=1, verbosity=1)"
      ],
      "execution_count": 8,
      "outputs": []
    },
    {
      "cell_type": "code",
      "metadata": {
        "id": "i8vi6EtTiRNF"
      },
      "source": [
        "#HistBooster\n",
        "histmodel = HistGradientBoostingRegressor(learning_rate=0.09)"
      ],
      "execution_count": 9,
      "outputs": []
    },
    {
      "cell_type": "code",
      "metadata": {
        "id": "Rj3QLoiJibQ2"
      },
      "source": [
        "#LightGBM\n",
        "lgbmodel = LGBMRegressor(learning_rate=0.09)"
      ],
      "execution_count": 10,
      "outputs": []
    },
    {
      "cell_type": "markdown",
      "metadata": {
        "id": "dhm7loNBisVJ"
      },
      "source": [
        "## AdaBoost"
      ]
    },
    {
      "cell_type": "markdown",
      "metadata": {
        "id": "FQk2nKKljHBg"
      },
      "source": [
        "Adaboost model does not handle null values internally, so i have manually handled null values in columns, by replacing with median values."
      ]
    },
    {
      "cell_type": "code",
      "metadata": {
        "id": "aZ2FwrS5jURx"
      },
      "source": [
        "m1,m2,m3 = np.nanmedian(X['No_of_orders_placed']),np.nanmedian(X['Coupons_offered']),np.nanmedian(X['Coupon_consumption_status'])"
      ],
      "execution_count": 11,
      "outputs": []
    },
    {
      "cell_type": "code",
      "metadata": {
        "id": "MTPaNb5Ajhc4"
      },
      "source": [
        "X_train['No_of_orders_placed'] = X_train['No_of_orders_placed'].fillna(m1)\n",
        "\n",
        "X_train['Coupons_offered'] = X_train['Coupons_offered'].fillna(m2)\n",
        "\n",
        "X_train['Coupon_consumption_status'] = X_train['Coupon_consumption_status'].fillna(m3)"
      ],
      "execution_count": 14,
      "outputs": []
    },
    {
      "cell_type": "markdown",
      "metadata": {
        "id": "a__VX1jAj_K2"
      },
      "source": [
        "For the test set, we have to replace the median values we used for train set. This is done to ensure, that the distribution remains the same"
      ]
    },
    {
      "cell_type": "code",
      "metadata": {
        "id": "gCWxuqimj34c"
      },
      "source": [
        "X_test['No_of_orders_placed'] = X_test['No_of_orders_placed'].fillna(m1)\n",
        "\n",
        "X_test['Coupons_offered'] = X_test['Coupons_offered'].fillna(m2)\n",
        "\n",
        "X_test['Coupon_consumption_status'] = X_test['Coupon_consumption_status'].fillna(m3)"
      ],
      "execution_count": 12,
      "outputs": []
    },
    {
      "cell_type": "markdown",
      "metadata": {
        "id": "pA0EQjtYlDJf"
      },
      "source": [
        "### AdaBoost over XgBoost"
      ]
    },
    {
      "cell_type": "code",
      "metadata": {
        "id": "87nySheTktHs"
      },
      "source": [
        "#Build the model\n",
        "adabst_xgbst = AdaBoostRegressor(base_estimator=xgbst_model,loss='square',n_estimators=70,learning_rate=0.09)"
      ],
      "execution_count": 15,
      "outputs": []
    },
    {
      "cell_type": "code",
      "metadata": {
        "colab": {
          "base_uri": "https://localhost:8080/"
        },
        "id": "dlCMGwNVlJ6m",
        "outputId": "89a24e4d-be54-43c2-db56-63da8a36edbe"
      },
      "source": [
        "#train the model\n",
        "adabst_xgbst.fit(X_train,y_train)"
      ],
      "execution_count": 16,
      "outputs": [
        {
          "output_type": "execute_result",
          "data": {
            "text/plain": [
              "AdaBoostRegressor(base_estimator=XGBRegressor(max_depth=5,\n",
              "                                              objective='reg:squarederror'),\n",
              "                  learning_rate=0.09, loss='square', n_estimators=70)"
            ]
          },
          "metadata": {},
          "execution_count": 16
        }
      ]
    },
    {
      "cell_type": "code",
      "metadata": {
        "id": "F9zrereIlNTe"
      },
      "source": [
        "#Predict the output on both test and train set\n",
        "\n",
        "yhat_adabst_xgbst = adabst_xgbst.predict(X_test)\n",
        "\n",
        "y_adabsttrain_xgbst = adabst_xgbst.predict(X_train)"
      ],
      "execution_count": 17,
      "outputs": []
    },
    {
      "cell_type": "code",
      "metadata": {
        "colab": {
          "base_uri": "https://localhost:8080/"
        },
        "id": "-NCNpvHUlol4",
        "outputId": "592c962a-7be1-4920-fad2-73c948914651"
      },
      "source": [
        "#Predict the r2Score for both test & train\n",
        "print(\"The score on the test set is:\",r2_score(y_test,yhat_adabst_xgbst)*100)\n",
        "\n",
        "print(\"The score on the train set is:\",r2_score(y_train,y_adabsttrain_xgbst)*100)"
      ],
      "execution_count": 18,
      "outputs": [
        {
          "output_type": "stream",
          "name": "stdout",
          "text": [
            "The score on the test set is: 53.32382779966927\n",
            "The score on the train set is: 57.758718282483336\n"
          ]
        }
      ]
    },
    {
      "cell_type": "markdown",
      "metadata": {
        "id": "j-o6xI2xnbds"
      },
      "source": [
        "## AdaBoost over HistBooster"
      ]
    },
    {
      "cell_type": "code",
      "metadata": {
        "id": "1fISQhq6ngKd"
      },
      "source": [
        "#Build the model\n",
        "adabst_histbst = AdaBoostRegressor(base_estimator=histmodel,loss='square',n_estimators=60,learning_rate=0.1)"
      ],
      "execution_count": 19,
      "outputs": []
    },
    {
      "cell_type": "code",
      "metadata": {
        "colab": {
          "base_uri": "https://localhost:8080/"
        },
        "id": "WR26vW9vnpfV",
        "outputId": "7bd6abbb-4b92-4ef3-cfd6-96dd463b98e5"
      },
      "source": [
        "#train the model\n",
        "adabst_histbst.fit(X_train,y_train)"
      ],
      "execution_count": 20,
      "outputs": [
        {
          "output_type": "execute_result",
          "data": {
            "text/plain": [
              "AdaBoostRegressor(base_estimator=HistGradientBoostingRegressor(learning_rate=0.09),\n",
              "                  learning_rate=0.1, loss='square', n_estimators=60)"
            ]
          },
          "metadata": {},
          "execution_count": 20
        }
      ]
    },
    {
      "cell_type": "code",
      "metadata": {
        "id": "vJynMaiSnz0g"
      },
      "source": [
        "#Predict the output on both test and train set\n",
        "\n",
        "yhat_adabst_histbst = adabst_histbst.predict(X_test)\n",
        "\n",
        "y_adabsttrain_histbst = adabst_histbst.predict(X_train)"
      ],
      "execution_count": 21,
      "outputs": []
    },
    {
      "cell_type": "code",
      "metadata": {
        "colab": {
          "base_uri": "https://localhost:8080/"
        },
        "id": "5onYU2pSoShv",
        "outputId": "84e8b559-00c9-4341-90a6-e5881a1af16b"
      },
      "source": [
        "#Predict the r2Score for both test & train\n",
        "print(\"The score on the test set is:\",r2_score(y_test,yhat_adabst_histbst)*100)\n",
        "\n",
        "print(\"The score on the train set is:\",r2_score(y_train,y_adabsttrain_histbst)*100)"
      ],
      "execution_count": 22,
      "outputs": [
        {
          "output_type": "stream",
          "name": "stdout",
          "text": [
            "The score on the test set is: 53.43940073096925\n",
            "The score on the train set is: 59.44264178081149\n"
          ]
        }
      ]
    },
    {
      "cell_type": "markdown",
      "metadata": {
        "id": "6J4U1pNHoc70"
      },
      "source": [
        "### AdaBoost over LightGBM"
      ]
    },
    {
      "cell_type": "code",
      "metadata": {
        "id": "nPGjAGEEoiqQ"
      },
      "source": [
        "#Build the model\n",
        "adabst_lgbbst = AdaBoostRegressor(base_estimator=lgbmodel,loss='square',n_estimators=60,learning_rate=0.1)"
      ],
      "execution_count": 23,
      "outputs": []
    },
    {
      "cell_type": "code",
      "metadata": {
        "colab": {
          "base_uri": "https://localhost:8080/"
        },
        "id": "9ydFcQ_ho5s5",
        "outputId": "3e6f26ae-4a24-4052-c542-623ccf8218dc"
      },
      "source": [
        "#train the model\n",
        "adabst_lgbbst.fit(X_train,y_train)"
      ],
      "execution_count": 24,
      "outputs": [
        {
          "output_type": "execute_result",
          "data": {
            "text/plain": [
              "AdaBoostRegressor(base_estimator=LGBMRegressor(learning_rate=0.09),\n",
              "                  learning_rate=0.1, loss='square', n_estimators=60)"
            ]
          },
          "metadata": {},
          "execution_count": 24
        }
      ]
    },
    {
      "cell_type": "code",
      "metadata": {
        "id": "m2Jvw88So8jR"
      },
      "source": [
        "#Predict the output on both test and train set\n",
        "\n",
        "yhat_adabst_lgbbst = adabst_lgbbst.predict(X_test)\n",
        "\n",
        "y_adabsttrain_lgbbst = adabst_lgbbst.predict(X_train)"
      ],
      "execution_count": 25,
      "outputs": []
    },
    {
      "cell_type": "code",
      "metadata": {
        "colab": {
          "base_uri": "https://localhost:8080/"
        },
        "id": "3M7btsYKpARX",
        "outputId": "44456384-ed5f-4412-8be7-3e3ec5425733"
      },
      "source": [
        "#Predict the r2Score for both test & train\n",
        "print(\"The score on the test set is:\",r2_score(y_test,yhat_adabst_lgbbst)*100)\n",
        "\n",
        "print(\"The score on the train set is:\",r2_score(y_train,y_adabsttrain_lgbbst)*100)"
      ],
      "execution_count": 26,
      "outputs": [
        {
          "output_type": "stream",
          "name": "stdout",
          "text": [
            "The score on the test set is: 53.46232430985383\n",
            "The score on the train set is: 59.54197315738573\n"
          ]
        }
      ]
    },
    {
      "cell_type": "markdown",
      "metadata": {
        "id": "6U1A7_wAp4nb"
      },
      "source": [
        "## AdaBoost with Stacking Regressor"
      ]
    },
    {
      "cell_type": "code",
      "metadata": {
        "id": "52LbVvODp8mU"
      },
      "source": [
        "level0 = list()\n",
        "\n",
        "level0.append((\n",
        "    'adabst_xgbst',\n",
        "    AdaBoostRegressor(base_estimator=xgbst_model,loss='square',n_estimators=70,learning_rate=0.09)\n",
        "    ))\n",
        "\n",
        "level0.append((\n",
        "    'adabst_histbst',\n",
        "    AdaBoostRegressor(base_estimator=histmodel,loss='square',n_estimators=60,learning_rate=0.1)\n",
        "    ))\n",
        "\n",
        "level0.append((\n",
        "    'adabst_lgbbst',\n",
        "    AdaBoostRegressor(base_estimator=lgbmodel,loss='square',n_estimators=60,learning_rate=0.1)\n",
        "    ))\n",
        "\n",
        "level1 = LinearRegression()"
      ],
      "execution_count": 28,
      "outputs": []
    },
    {
      "cell_type": "code",
      "metadata": {
        "id": "Nvh8eG8iqMtb"
      },
      "source": [
        "#Build the model\n",
        "meta_model = StackingRegressor(estimators=level0, final_estimator=level1, cv=5)"
      ],
      "execution_count": 29,
      "outputs": []
    },
    {
      "cell_type": "code",
      "metadata": {
        "colab": {
          "base_uri": "https://localhost:8080/"
        },
        "id": "scQv20t-qOra",
        "outputId": "b8e235bd-a297-46ec-f4b3-ac759027589e"
      },
      "source": [
        "#train the model\n",
        "meta_model.fit(X_train,y_train)"
      ],
      "execution_count": 30,
      "outputs": [
        {
          "output_type": "execute_result",
          "data": {
            "text/plain": [
              "StackingRegressor(cv=5,\n",
              "                  estimators=[('adabst_xgbst',\n",
              "                               AdaBoostRegressor(base_estimator=XGBRegressor(max_depth=5,\n",
              "                                                                             objective='reg:squarederror'),\n",
              "                                                 learning_rate=0.09,\n",
              "                                                 loss='square',\n",
              "                                                 n_estimators=70)),\n",
              "                              ('adabst_histbst',\n",
              "                               AdaBoostRegressor(base_estimator=HistGradientBoostingRegressor(learning_rate=0.09),\n",
              "                                                 learning_rate=0.1,\n",
              "                                                 loss='square',\n",
              "                                                 n_estimators=60)),\n",
              "                              ('adabst_lgbbst',\n",
              "                               AdaBoostRegressor(base_estimator=LGBMRegressor(learning_rate=0.09),\n",
              "                                                 learning_rate=0.1,\n",
              "                                                 loss='square',\n",
              "                                                 n_estimators=60))],\n",
              "                  final_estimator=LinearRegression())"
            ]
          },
          "metadata": {},
          "execution_count": 30
        }
      ]
    },
    {
      "cell_type": "code",
      "metadata": {
        "id": "eOVSjh52qdKh"
      },
      "source": [
        "#Predict the output on both test and train set\n",
        "\n",
        "y_pred = meta_model.predict(X_test)\n",
        "\n",
        "ylrtrain_pred = meta_model.predict(X_train)"
      ],
      "execution_count": 31,
      "outputs": []
    },
    {
      "cell_type": "code",
      "metadata": {
        "colab": {
          "base_uri": "https://localhost:8080/"
        },
        "id": "AEypPEWsqUgD",
        "outputId": "908eaea7-8f96-4ec3-fe3b-e1e39a1b6dba"
      },
      "source": [
        "#Predict the final r2Score for both test & train\n",
        "print(\"The score on the test set is:\",r2_score(y_test,y_pred)*100)\n",
        "\n",
        "print(\"The score on the train set is:\",r2_score(y_train,ylrtrain_pred)*100)"
      ],
      "execution_count": 32,
      "outputs": [
        {
          "output_type": "stream",
          "name": "stdout",
          "text": [
            "The score on the test set is: 53.48150362663204\n",
            "The score on the train set is: 59.331059275530286\n"
          ]
        }
      ]
    }
  ]
}